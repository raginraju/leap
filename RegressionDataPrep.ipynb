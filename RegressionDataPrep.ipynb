{
 "cells": [
  {
   "cell_type": "code",
   "execution_count": 21,
   "id": "adc2cef8-340e-49a5-be53-893b538a628b",
   "metadata": {
    "tags": []
   },
   "outputs": [],
   "source": [
    "import numpy as np\n",
    "import pandas as pd\n",
    "import matplotlib.pyplot as plt\n",
    "import seaborn as sns\n",
    "import os\n",
    "import statsmodels.api as sm\n",
    "from sklearn.model_selection import train_test_split\n",
    "from sklearn.linear_model import LinearRegression\n",
    "from sklearn.preprocessing import OneHotEncoder\n",
    "from sklearn.metrics import mean_absolute_error, mean_squared_error\n",
    "from sklearn.metrics import mean_squared_error, r2_score\n",
    "import joblib\n",
    "\n",
    "\n",
    "# Set display options to show all columns and rows\n",
    "pd.set_option('display.max_columns', None)"
   ]
  },
  {
   "cell_type": "code",
   "execution_count": 22,
   "id": "83539ff3-b31b-4b52-8817-f3fab61c7140",
   "metadata": {},
   "outputs": [],
   "source": [
    "def ModelEvaluation(model,X_test, y_test):\n",
    "    #1.  R2 Score\n",
    "    score = model.score(X_test, y_test)\n",
    "    print(\"R^2 Score:\", score)\n",
    "    \n",
    "    #2. Mean Absolute Error (MAE) and Mean Squared Error (MSE)\n",
    "    y_pred = model.predict(X_test)\n",
    "    mae = mean_absolute_error(y_test, y_pred)\n",
    "    mse = mean_squared_error(y_test, y_pred)\n",
    "    print(\"Mean Absolute Error (MAE):\", mae)\n",
    "    print(\"Mean Squared Error (MSE):\", mse)\n",
    "\n",
    "    #3. RMSE is the square root of MSE. It gives an indication of the average magnitude of the errors.\n",
    "    rmse = np.sqrt(mse)\n",
    "    print(\"Root Mean Squared Error (RMSE):\", rmse)\n",
    "    \n",
    "    #4. Residuals are the differences between the observed and predicted values. Analyzing residuals helps in understanding the model’s performance and checking for patterns.\n",
    "    residuals = y_test - y_pred\n",
    "    plt.scatter(y_pred, residuals)\n",
    "    plt.axhline(y=0, color='r', linestyle='--')\n",
    "    plt.xlabel('Predicted Values')\n",
    "    plt.ylabel('Residuals')\n",
    "    plt.title('Residual Plot')\n",
    "    plt.show()"
   ]
  },
  {
   "cell_type": "markdown",
   "id": "ee9db159-da75-45ff-90d7-5fc23a9a314a",
   "metadata": {},
   "source": [
    "## 1. Preprocessing data before Regression"
   ]
  },
  {
   "cell_type": "code",
   "execution_count": 23,
   "id": "773752a3-d250-46a3-9c1a-4f2527d563be",
   "metadata": {},
   "outputs": [],
   "source": [
    "# Read data\n",
    "leap_df = pd.read_csv('./data/leap_prepared_scaled.csv')"
   ]
  },
  {
   "cell_type": "code",
   "execution_count": 24,
   "id": "096dbc45-0485-4a30-af50-b2b45ad93341",
   "metadata": {},
   "outputs": [
    {
     "name": "stdout",
     "output_type": "stream",
     "text": [
      "<class 'pandas.core.frame.DataFrame'>\n",
      "RangeIndex: 9561 entries, 0 to 9560\n",
      "Data columns (total 12 columns):\n",
      " #   Column                                       Non-Null Count  Dtype  \n",
      "---  ------                                       --------------  -----  \n",
      " 0   country                                      6230 non-null   object \n",
      " 1   year                                         6230 non-null   float64\n",
      " 2   life_expectancy                              6230 non-null   float64\n",
      " 3   population                                   6230 non-null   float64\n",
      " 4   annual_co2_emissions_scaled                  6230 non-null   float64\n",
      " 5   animal_protein_per_day_person_scaled         6230 non-null   float64\n",
      " 6   fat_per_day_person_scaled                    6230 non-null   float64\n",
      " 7   carbs_per_day_person_scaled                  6230 non-null   float64\n",
      " 8   fertility rate_scaled                        6230 non-null   float64\n",
      " 9   rural population_by_pop_scaled               6230 non-null   float64\n",
      " 10  fixed_line_subscription_per_hundred_scaled   6230 non-null   float64\n",
      " 11  mobile_line_subscription_per_hundred_scaled  6230 non-null   float64\n",
      "dtypes: float64(11), object(1)\n",
      "memory usage: 896.5+ KB\n"
     ]
    }
   ],
   "source": [
    "leap_df.info()"
   ]
  },
  {
   "cell_type": "code",
   "execution_count": 25,
   "id": "bd3fb085",
   "metadata": {},
   "outputs": [],
   "source": [
    "# Rename column 8 and 9 to remove the spaces\n",
    "leap_df.rename(columns={'fertility rate_scaled': 'fertility_rate_scaled','rural population_by_pop_scaled': 'rural_population_by_pop_scaled' }, inplace=True)"
   ]
  },
  {
   "cell_type": "code",
   "execution_count": 26,
   "id": "2f02c135",
   "metadata": {},
   "outputs": [
    {
     "data": {
      "text/plain": [
       "Index(['country', 'year', 'life_expectancy', 'population',\n",
       "       'annual_co2_emissions_scaled', 'animal_protein_per_day_person_scaled',\n",
       "       'fat_per_day_person_scaled', 'carbs_per_day_person_scaled',\n",
       "       'fertility_rate_scaled', 'rural_population_by_pop_scaled',\n",
       "       'fixed_line_subscription_per_hundred_scaled',\n",
       "       'mobile_line_subscription_per_hundred_scaled'],\n",
       "      dtype='object')"
      ]
     },
     "execution_count": 26,
     "metadata": {},
     "output_type": "execute_result"
    }
   ],
   "source": [
    "#check the updated column names\n",
    "leap_df.columns"
   ]
  },
  {
   "cell_type": "code",
   "execution_count": 27,
   "id": "e522c458-a512-4dab-9643-d3c8a626ec8e",
   "metadata": {},
   "outputs": [
    {
     "data": {
      "text/html": [
       "<div>\n",
       "<style scoped>\n",
       "    .dataframe tbody tr th:only-of-type {\n",
       "        vertical-align: middle;\n",
       "    }\n",
       "\n",
       "    .dataframe tbody tr th {\n",
       "        vertical-align: top;\n",
       "    }\n",
       "\n",
       "    .dataframe thead th {\n",
       "        text-align: right;\n",
       "    }\n",
       "</style>\n",
       "<table border=\"1\" class=\"dataframe\">\n",
       "  <thead>\n",
       "    <tr style=\"text-align: right;\">\n",
       "      <th></th>\n",
       "      <th>country</th>\n",
       "      <th>year</th>\n",
       "      <th>life_expectancy</th>\n",
       "      <th>population</th>\n",
       "      <th>annual_co2_emissions_scaled</th>\n",
       "      <th>animal_protein_per_day_person_scaled</th>\n",
       "      <th>fat_per_day_person_scaled</th>\n",
       "      <th>carbs_per_day_person_scaled</th>\n",
       "      <th>fertility_rate_scaled</th>\n",
       "      <th>rural_population_by_pop_scaled</th>\n",
       "      <th>fixed_line_subscription_per_hundred_scaled</th>\n",
       "      <th>mobile_line_subscription_per_hundred_scaled</th>\n",
       "    </tr>\n",
       "  </thead>\n",
       "  <tbody>\n",
       "    <tr>\n",
       "      <th>0</th>\n",
       "      <td>NaN</td>\n",
       "      <td>NaN</td>\n",
       "      <td>NaN</td>\n",
       "      <td>NaN</td>\n",
       "      <td>0.000057</td>\n",
       "      <td>0.117832</td>\n",
       "      <td>0.163895</td>\n",
       "      <td>0.768924</td>\n",
       "      <td>0.901152</td>\n",
       "      <td>0.899555</td>\n",
       "      <td>0.001935</td>\n",
       "      <td>0.0</td>\n",
       "    </tr>\n",
       "    <tr>\n",
       "      <th>1</th>\n",
       "      <td>NaN</td>\n",
       "      <td>NaN</td>\n",
       "      <td>NaN</td>\n",
       "      <td>NaN</td>\n",
       "      <td>0.000053</td>\n",
       "      <td>0.125285</td>\n",
       "      <td>0.175421</td>\n",
       "      <td>0.795939</td>\n",
       "      <td>0.903848</td>\n",
       "      <td>0.895044</td>\n",
       "      <td>0.001955</td>\n",
       "      <td>0.0</td>\n",
       "    </tr>\n",
       "    <tr>\n",
       "      <th>2</th>\n",
       "      <td>NaN</td>\n",
       "      <td>NaN</td>\n",
       "      <td>NaN</td>\n",
       "      <td>NaN</td>\n",
       "      <td>0.000064</td>\n",
       "      <td>0.119513</td>\n",
       "      <td>0.153494</td>\n",
       "      <td>0.622233</td>\n",
       "      <td>0.908038</td>\n",
       "      <td>0.890430</td>\n",
       "      <td>0.001914</td>\n",
       "      <td>0.0</td>\n",
       "    </tr>\n",
       "    <tr>\n",
       "      <th>3</th>\n",
       "      <td>NaN</td>\n",
       "      <td>NaN</td>\n",
       "      <td>NaN</td>\n",
       "      <td>NaN</td>\n",
       "      <td>0.000058</td>\n",
       "      <td>0.119498</td>\n",
       "      <td>0.152615</td>\n",
       "      <td>0.687172</td>\n",
       "      <td>0.909156</td>\n",
       "      <td>0.885680</td>\n",
       "      <td>0.002139</td>\n",
       "      <td>0.0</td>\n",
       "    </tr>\n",
       "    <tr>\n",
       "      <th>4</th>\n",
       "      <td>NaN</td>\n",
       "      <td>NaN</td>\n",
       "      <td>NaN</td>\n",
       "      <td>NaN</td>\n",
       "      <td>0.000060</td>\n",
       "      <td>0.120085</td>\n",
       "      <td>0.161563</td>\n",
       "      <td>0.680974</td>\n",
       "      <td>0.910971</td>\n",
       "      <td>0.880794</td>\n",
       "      <td>0.002132</td>\n",
       "      <td>0.0</td>\n",
       "    </tr>\n",
       "  </tbody>\n",
       "</table>\n",
       "</div>"
      ],
      "text/plain": [
       "  country  year  life_expectancy  population  annual_co2_emissions_scaled  \\\n",
       "0     NaN   NaN              NaN         NaN                     0.000057   \n",
       "1     NaN   NaN              NaN         NaN                     0.000053   \n",
       "2     NaN   NaN              NaN         NaN                     0.000064   \n",
       "3     NaN   NaN              NaN         NaN                     0.000058   \n",
       "4     NaN   NaN              NaN         NaN                     0.000060   \n",
       "\n",
       "   animal_protein_per_day_person_scaled  fat_per_day_person_scaled  \\\n",
       "0                              0.117832                   0.163895   \n",
       "1                              0.125285                   0.175421   \n",
       "2                              0.119513                   0.153494   \n",
       "3                              0.119498                   0.152615   \n",
       "4                              0.120085                   0.161563   \n",
       "\n",
       "   carbs_per_day_person_scaled  fertility_rate_scaled  \\\n",
       "0                     0.768924               0.901152   \n",
       "1                     0.795939               0.903848   \n",
       "2                     0.622233               0.908038   \n",
       "3                     0.687172               0.909156   \n",
       "4                     0.680974               0.910971   \n",
       "\n",
       "   rural_population_by_pop_scaled  fixed_line_subscription_per_hundred_scaled  \\\n",
       "0                        0.899555                                    0.001935   \n",
       "1                        0.895044                                    0.001955   \n",
       "2                        0.890430                                    0.001914   \n",
       "3                        0.885680                                    0.002139   \n",
       "4                        0.880794                                    0.002132   \n",
       "\n",
       "   mobile_line_subscription_per_hundred_scaled  \n",
       "0                                          0.0  \n",
       "1                                          0.0  \n",
       "2                                          0.0  \n",
       "3                                          0.0  \n",
       "4                                          0.0  "
      ]
     },
     "execution_count": 27,
     "metadata": {},
     "output_type": "execute_result"
    }
   ],
   "source": [
    "leap_df.head()"
   ]
  },
  {
   "cell_type": "markdown",
   "id": "6a33fb0b-00b0-476d-82d1-904775e821aa",
   "metadata": {},
   "source": [
    "### 1.a Drop rows with any missing values and reset the index in one line"
   ]
  },
  {
   "cell_type": "code",
   "execution_count": 28,
   "id": "a698c4f8-0667-4593-a9a4-313be51c3a5b",
   "metadata": {},
   "outputs": [],
   "source": [
    "leap_df_cleaned = leap_df.dropna().reset_index(drop=True)\n",
    "\n",
    "# Remove spaces from country name\n",
    "leap_df_cleaned['country'] = leap_df_cleaned['country'].str.replace(' ', '')\n",
    "\n",
    "# Remove special characters from country name\n",
    "leap_df_cleaned['country'] = leap_df_cleaned['country'].str.replace('[^a-zA-Z0-9]', '')\n",
    "\n",
    "# save the cleaned DataFrame back to a CSV file\n",
    "leap_df_cleaned.to_csv('./data/cleaned_file.csv', index=False)"
   ]
  },
  {
   "cell_type": "code",
   "execution_count": 29,
   "id": "c047f0a0-6122-430c-ae9d-565f3667f207",
   "metadata": {
    "tags": []
   },
   "outputs": [
    {
     "data": {
      "text/plain": [
       "array(['Afghanistan', 'Albania', 'Algeria', 'Angola', 'AntiguaandBarbuda',\n",
       "       'Argentina', 'Armenia', 'Australia', 'Austria', 'Azerbaijan',\n",
       "       'Bahrain', 'Bangladesh', 'Barbados', 'Belarus', 'Belgium',\n",
       "       'Belize', 'Benin', 'Bermuda', 'Bhutan', 'Bolivia',\n",
       "       'BosniaandHerzegovina', 'Botswana', 'Brazil', 'Bulgaria',\n",
       "       'BurkinaFaso', 'Burundi', 'Cambodia', 'Cameroon', 'Canada',\n",
       "       'CentralAfricanRepublic', 'Chad', 'Chile', 'China', 'Colombia',\n",
       "       'Comoros', 'CostaRica', \"Coted'Ivoire\", 'Croatia', 'Cuba',\n",
       "       'Cyprus', 'Czechia', 'Denmark', 'Djibouti', 'Dominica',\n",
       "       'DominicanRepublic', 'Ecuador', 'ElSalvador', 'Estonia',\n",
       "       'Eswatini', 'Ethiopia', 'Fiji', 'Finland', 'France',\n",
       "       'FrenchPolynesia', 'Gabon', 'Georgia', 'Germany', 'Ghana',\n",
       "       'Greece', 'Grenada', 'Guatemala', 'Guinea', 'Guinea-Bissau',\n",
       "       'Guyana', 'Haiti', 'Honduras', 'Hungary', 'Iceland', 'India',\n",
       "       'Indonesia', 'Iraq', 'Ireland', 'Israel', 'Italy'], dtype=object)"
      ]
     },
     "execution_count": 29,
     "metadata": {},
     "output_type": "execute_result"
    }
   ],
   "source": [
    "#Storing all the country name from the cleaned data set\n",
    "CountryNames = leap_df_cleaned[\"country\"]\n",
    "CountryNames = CountryNames.unique()\n",
    "CountryNames"
   ]
  },
  {
   "cell_type": "code",
   "execution_count": 30,
   "id": "2e926e07",
   "metadata": {},
   "outputs": [
    {
     "data": {
      "text/html": [
       "<div>\n",
       "<style scoped>\n",
       "    .dataframe tbody tr th:only-of-type {\n",
       "        vertical-align: middle;\n",
       "    }\n",
       "\n",
       "    .dataframe tbody tr th {\n",
       "        vertical-align: top;\n",
       "    }\n",
       "\n",
       "    .dataframe thead th {\n",
       "        text-align: right;\n",
       "    }\n",
       "</style>\n",
       "<table border=\"1\" class=\"dataframe\">\n",
       "  <thead>\n",
       "    <tr style=\"text-align: right;\">\n",
       "      <th></th>\n",
       "      <th>country</th>\n",
       "      <th>year</th>\n",
       "      <th>life_expectancy</th>\n",
       "      <th>population</th>\n",
       "      <th>annual_co2_emissions_scaled</th>\n",
       "      <th>animal_protein_per_day_person_scaled</th>\n",
       "      <th>fat_per_day_person_scaled</th>\n",
       "      <th>carbs_per_day_person_scaled</th>\n",
       "      <th>fertility_rate_scaled</th>\n",
       "      <th>rural_population_by_pop_scaled</th>\n",
       "      <th>fixed_line_subscription_per_hundred_scaled</th>\n",
       "      <th>mobile_line_subscription_per_hundred_scaled</th>\n",
       "    </tr>\n",
       "  </thead>\n",
       "  <tbody>\n",
       "    <tr>\n",
       "      <th>2498</th>\n",
       "      <td>Haiti</td>\n",
       "      <td>1981.0</td>\n",
       "      <td>50.3</td>\n",
       "      <td>5760199.0</td>\n",
       "      <td>0.000087</td>\n",
       "      <td>0.078583</td>\n",
       "      <td>0.25453</td>\n",
       "      <td>0.264994</td>\n",
       "      <td>0.318067</td>\n",
       "      <td>0.765463</td>\n",
       "      <td>0.044555</td>\n",
       "      <td>0.134064</td>\n",
       "    </tr>\n",
       "  </tbody>\n",
       "</table>\n",
       "</div>"
      ],
      "text/plain": [
       "     country    year  life_expectancy  population  \\\n",
       "2498   Haiti  1981.0             50.3   5760199.0   \n",
       "\n",
       "      annual_co2_emissions_scaled  animal_protein_per_day_person_scaled  \\\n",
       "2498                     0.000087                              0.078583   \n",
       "\n",
       "      fat_per_day_person_scaled  carbs_per_day_person_scaled  \\\n",
       "2498                    0.25453                     0.264994   \n",
       "\n",
       "      fertility_rate_scaled  rural_population_by_pop_scaled  \\\n",
       "2498               0.318067                        0.765463   \n",
       "\n",
       "      fixed_line_subscription_per_hundred_scaled  \\\n",
       "2498                                    0.044555   \n",
       "\n",
       "      mobile_line_subscription_per_hundred_scaled  \n",
       "2498                                     0.134064  "
      ]
     },
     "execution_count": 30,
     "metadata": {},
     "output_type": "execute_result"
    }
   ],
   "source": [
    "leap_df_cleaned[(leap_df_cleaned[\"country\"] == \"Haiti\") & (leap_df_cleaned[\"year\"] == float(1981))]\n"
   ]
  },
  {
   "cell_type": "code",
   "execution_count": 31,
   "id": "a6fc2e1f",
   "metadata": {},
   "outputs": [],
   "source": [
    "#Getting recent data to set as the min value for the app\n",
    "Recent_data_DF = pd.DataFrame(columns=leap_df_cleaned.columns)\n",
    "for cntry in CountryNames:\n",
    "    max_year = leap_df_cleaned[leap_df_cleaned[\"country\"]==cntry][\"year\"].max()\n",
    "    rw = leap_df_cleaned[(leap_df_cleaned[\"country\"] == cntry) & (leap_df_cleaned[\"year\"] == max_year)]\n",
    "    Recent_data_DF = pd.concat([Recent_data_DF, rw], ignore_index=True)\n"
   ]
  },
  {
   "cell_type": "code",
   "execution_count": 32,
   "id": "8768a162",
   "metadata": {},
   "outputs": [
    {
     "data": {
      "text/html": [
       "<div>\n",
       "<style scoped>\n",
       "    .dataframe tbody tr th:only-of-type {\n",
       "        vertical-align: middle;\n",
       "    }\n",
       "\n",
       "    .dataframe tbody tr th {\n",
       "        vertical-align: top;\n",
       "    }\n",
       "\n",
       "    .dataframe thead th {\n",
       "        text-align: right;\n",
       "    }\n",
       "</style>\n",
       "<table border=\"1\" class=\"dataframe\">\n",
       "  <thead>\n",
       "    <tr style=\"text-align: right;\">\n",
       "      <th></th>\n",
       "      <th>country</th>\n",
       "      <th>year</th>\n",
       "      <th>life_expectancy</th>\n",
       "      <th>population</th>\n",
       "      <th>annual_co2_emissions_scaled</th>\n",
       "      <th>animal_protein_per_day_person_scaled</th>\n",
       "      <th>fat_per_day_person_scaled</th>\n",
       "      <th>carbs_per_day_person_scaled</th>\n",
       "      <th>fertility_rate_scaled</th>\n",
       "      <th>rural_population_by_pop_scaled</th>\n",
       "      <th>fixed_line_subscription_per_hundred_scaled</th>\n",
       "      <th>mobile_line_subscription_per_hundred_scaled</th>\n",
       "    </tr>\n",
       "  </thead>\n",
       "  <tbody>\n",
       "    <tr>\n",
       "      <th>0</th>\n",
       "      <td>Afghanistan</td>\n",
       "      <td>2020.0</td>\n",
       "      <td>62.6</td>\n",
       "      <td>38972236.0</td>\n",
       "      <td>0.000113</td>\n",
       "      <td>0.462684</td>\n",
       "      <td>0.464298</td>\n",
       "      <td>0.489453</td>\n",
       "      <td>0.111684</td>\n",
       "      <td>0.559527</td>\n",
       "      <td>0.098085</td>\n",
       "      <td>0.185839</td>\n",
       "    </tr>\n",
       "    <tr>\n",
       "      <th>1</th>\n",
       "      <td>Albania</td>\n",
       "      <td>2020.0</td>\n",
       "      <td>77.0</td>\n",
       "      <td>2866850.0</td>\n",
       "      <td>0.000134</td>\n",
       "      <td>0.133430</td>\n",
       "      <td>0.132254</td>\n",
       "      <td>0.094281</td>\n",
       "      <td>0.889587</td>\n",
       "      <td>0.738891</td>\n",
       "      <td>0.005233</td>\n",
       "      <td>0.000000</td>\n",
       "    </tr>\n",
       "    <tr>\n",
       "      <th>2</th>\n",
       "      <td>Algeria</td>\n",
       "      <td>2020.0</td>\n",
       "      <td>74.5</td>\n",
       "      <td>43451668.0</td>\n",
       "      <td>0.002558</td>\n",
       "      <td>0.661880</td>\n",
       "      <td>0.595596</td>\n",
       "      <td>0.564577</td>\n",
       "      <td>0.308779</td>\n",
       "      <td>0.198236</td>\n",
       "      <td>0.069810</td>\n",
       "      <td>0.000000</td>\n",
       "    </tr>\n",
       "    <tr>\n",
       "      <th>3</th>\n",
       "      <td>Angola</td>\n",
       "      <td>2020.0</td>\n",
       "      <td>62.3</td>\n",
       "      <td>33428490.0</td>\n",
       "      <td>0.000433</td>\n",
       "      <td>0.028145</td>\n",
       "      <td>0.041409</td>\n",
       "      <td>0.482339</td>\n",
       "      <td>0.385711</td>\n",
       "      <td>0.823254</td>\n",
       "      <td>0.002373</td>\n",
       "      <td>0.000002</td>\n",
       "    </tr>\n",
       "    <tr>\n",
       "      <th>4</th>\n",
       "      <td>AntiguaandBarbuda</td>\n",
       "      <td>2020.0</td>\n",
       "      <td>78.8</td>\n",
       "      <td>92672.0</td>\n",
       "      <td>0.000032</td>\n",
       "      <td>0.473384</td>\n",
       "      <td>0.468643</td>\n",
       "      <td>0.587468</td>\n",
       "      <td>0.074461</td>\n",
       "      <td>0.717058</td>\n",
       "      <td>0.500013</td>\n",
       "      <td>0.531117</td>\n",
       "    </tr>\n",
       "    <tr>\n",
       "      <th>...</th>\n",
       "      <td>...</td>\n",
       "      <td>...</td>\n",
       "      <td>...</td>\n",
       "      <td>...</td>\n",
       "      <td>...</td>\n",
       "      <td>...</td>\n",
       "      <td>...</td>\n",
       "      <td>...</td>\n",
       "      <td>...</td>\n",
       "      <td>...</td>\n",
       "      <td>...</td>\n",
       "      <td>...</td>\n",
       "    </tr>\n",
       "    <tr>\n",
       "      <th>69</th>\n",
       "      <td>Indonesia</td>\n",
       "      <td>2020.0</td>\n",
       "      <td>68.8</td>\n",
       "      <td>271857984.0</td>\n",
       "      <td>0.016014</td>\n",
       "      <td>0.502748</td>\n",
       "      <td>0.767406</td>\n",
       "      <td>0.431638</td>\n",
       "      <td>0.098121</td>\n",
       "      <td>0.227652</td>\n",
       "      <td>0.504429</td>\n",
       "      <td>0.011841</td>\n",
       "    </tr>\n",
       "    <tr>\n",
       "      <th>70</th>\n",
       "      <td>Iraq</td>\n",
       "      <td>2020.0</td>\n",
       "      <td>69.1</td>\n",
       "      <td>42556988.0</td>\n",
       "      <td>0.000161</td>\n",
       "      <td>0.526829</td>\n",
       "      <td>0.553165</td>\n",
       "      <td>0.384038</td>\n",
       "      <td>0.269251</td>\n",
       "      <td>0.173048</td>\n",
       "      <td>0.071241</td>\n",
       "      <td>0.000000</td>\n",
       "    </tr>\n",
       "    <tr>\n",
       "      <th>71</th>\n",
       "      <td>Ireland</td>\n",
       "      <td>2020.0</td>\n",
       "      <td>82.5</td>\n",
       "      <td>4946123.0</td>\n",
       "      <td>0.003141</td>\n",
       "      <td>0.395475</td>\n",
       "      <td>0.435533</td>\n",
       "      <td>0.698175</td>\n",
       "      <td>0.223898</td>\n",
       "      <td>0.523896</td>\n",
       "      <td>0.116671</td>\n",
       "      <td>0.323422</td>\n",
       "    </tr>\n",
       "    <tr>\n",
       "      <th>72</th>\n",
       "      <td>Israel</td>\n",
       "      <td>2020.0</td>\n",
       "      <td>82.4</td>\n",
       "      <td>8757487.0</td>\n",
       "      <td>0.000254</td>\n",
       "      <td>0.088835</td>\n",
       "      <td>0.234344</td>\n",
       "      <td>0.389778</td>\n",
       "      <td>0.757176</td>\n",
       "      <td>0.803161</td>\n",
       "      <td>0.014144</td>\n",
       "      <td>0.000000</td>\n",
       "    </tr>\n",
       "    <tr>\n",
       "      <th>73</th>\n",
       "      <td>Italy</td>\n",
       "      <td>1987.0</td>\n",
       "      <td>76.3</td>\n",
       "      <td>56644528.0</td>\n",
       "      <td>0.000286</td>\n",
       "      <td>0.201758</td>\n",
       "      <td>0.277858</td>\n",
       "      <td>0.121093</td>\n",
       "      <td>0.342887</td>\n",
       "      <td>0.705799</td>\n",
       "      <td>0.017600</td>\n",
       "      <td>0.380402</td>\n",
       "    </tr>\n",
       "  </tbody>\n",
       "</table>\n",
       "<p>74 rows × 12 columns</p>\n",
       "</div>"
      ],
      "text/plain": [
       "              country    year  life_expectancy   population  \\\n",
       "0         Afghanistan  2020.0             62.6   38972236.0   \n",
       "1             Albania  2020.0             77.0    2866850.0   \n",
       "2             Algeria  2020.0             74.5   43451668.0   \n",
       "3              Angola  2020.0             62.3   33428490.0   \n",
       "4   AntiguaandBarbuda  2020.0             78.8      92672.0   \n",
       "..                ...     ...              ...          ...   \n",
       "69          Indonesia  2020.0             68.8  271857984.0   \n",
       "70               Iraq  2020.0             69.1   42556988.0   \n",
       "71            Ireland  2020.0             82.5    4946123.0   \n",
       "72             Israel  2020.0             82.4    8757487.0   \n",
       "73              Italy  1987.0             76.3   56644528.0   \n",
       "\n",
       "    annual_co2_emissions_scaled  animal_protein_per_day_person_scaled  \\\n",
       "0                      0.000113                              0.462684   \n",
       "1                      0.000134                              0.133430   \n",
       "2                      0.002558                              0.661880   \n",
       "3                      0.000433                              0.028145   \n",
       "4                      0.000032                              0.473384   \n",
       "..                          ...                                   ...   \n",
       "69                     0.016014                              0.502748   \n",
       "70                     0.000161                              0.526829   \n",
       "71                     0.003141                              0.395475   \n",
       "72                     0.000254                              0.088835   \n",
       "73                     0.000286                              0.201758   \n",
       "\n",
       "    fat_per_day_person_scaled  carbs_per_day_person_scaled  \\\n",
       "0                    0.464298                     0.489453   \n",
       "1                    0.132254                     0.094281   \n",
       "2                    0.595596                     0.564577   \n",
       "3                    0.041409                     0.482339   \n",
       "4                    0.468643                     0.587468   \n",
       "..                        ...                          ...   \n",
       "69                   0.767406                     0.431638   \n",
       "70                   0.553165                     0.384038   \n",
       "71                   0.435533                     0.698175   \n",
       "72                   0.234344                     0.389778   \n",
       "73                   0.277858                     0.121093   \n",
       "\n",
       "    fertility_rate_scaled  rural_population_by_pop_scaled  \\\n",
       "0                0.111684                        0.559527   \n",
       "1                0.889587                        0.738891   \n",
       "2                0.308779                        0.198236   \n",
       "3                0.385711                        0.823254   \n",
       "4                0.074461                        0.717058   \n",
       "..                    ...                             ...   \n",
       "69               0.098121                        0.227652   \n",
       "70               0.269251                        0.173048   \n",
       "71               0.223898                        0.523896   \n",
       "72               0.757176                        0.803161   \n",
       "73               0.342887                        0.705799   \n",
       "\n",
       "    fixed_line_subscription_per_hundred_scaled  \\\n",
       "0                                     0.098085   \n",
       "1                                     0.005233   \n",
       "2                                     0.069810   \n",
       "3                                     0.002373   \n",
       "4                                     0.500013   \n",
       "..                                         ...   \n",
       "69                                    0.504429   \n",
       "70                                    0.071241   \n",
       "71                                    0.116671   \n",
       "72                                    0.014144   \n",
       "73                                    0.017600   \n",
       "\n",
       "    mobile_line_subscription_per_hundred_scaled  \n",
       "0                                      0.185839  \n",
       "1                                      0.000000  \n",
       "2                                      0.000000  \n",
       "3                                      0.000002  \n",
       "4                                      0.531117  \n",
       "..                                          ...  \n",
       "69                                     0.011841  \n",
       "70                                     0.000000  \n",
       "71                                     0.323422  \n",
       "72                                     0.000000  \n",
       "73                                     0.380402  \n",
       "\n",
       "[74 rows x 12 columns]"
      ]
     },
     "execution_count": 32,
     "metadata": {},
     "output_type": "execute_result"
    }
   ],
   "source": [
    "Recent_data_DF"
   ]
  },
  {
   "cell_type": "code",
   "execution_count": 33,
   "id": "a6ce8eb3-816e-4478-bae4-eebd07feb905",
   "metadata": {},
   "outputs": [
    {
     "name": "stdout",
     "output_type": "stream",
     "text": [
      "<class 'pandas.core.frame.DataFrame'>\n",
      "RangeIndex: 2899 entries, 0 to 2898\n",
      "Data columns (total 12 columns):\n",
      " #   Column                                       Non-Null Count  Dtype  \n",
      "---  ------                                       --------------  -----  \n",
      " 0   country                                      2899 non-null   object \n",
      " 1   year                                         2899 non-null   float64\n",
      " 2   life_expectancy                              2899 non-null   float64\n",
      " 3   population                                   2899 non-null   float64\n",
      " 4   annual_co2_emissions_scaled                  2899 non-null   float64\n",
      " 5   animal_protein_per_day_person_scaled         2899 non-null   float64\n",
      " 6   fat_per_day_person_scaled                    2899 non-null   float64\n",
      " 7   carbs_per_day_person_scaled                  2899 non-null   float64\n",
      " 8   fertility_rate_scaled                        2899 non-null   float64\n",
      " 9   rural_population_by_pop_scaled               2899 non-null   float64\n",
      " 10  fixed_line_subscription_per_hundred_scaled   2899 non-null   float64\n",
      " 11  mobile_line_subscription_per_hundred_scaled  2899 non-null   float64\n",
      "dtypes: float64(11), object(1)\n",
      "memory usage: 271.9+ KB\n"
     ]
    }
   ],
   "source": [
    "leap_df_cleaned.info()"
   ]
  },
  {
   "cell_type": "markdown",
   "id": "7f0589f6",
   "metadata": {},
   "source": [
    "### 2899 rows remaining after removing cells with empty rows"
   ]
  },
  {
   "cell_type": "markdown",
   "id": "c8a243e8-ee55-4ebc-9227-060b437829fd",
   "metadata": {},
   "source": [
    "## 2.Regression"
   ]
  },
  {
   "cell_type": "code",
   "execution_count": 34,
   "id": "ded4a46c-94f8-45a4-8cab-576e7ff3cd22",
   "metadata": {},
   "outputs": [],
   "source": [
    "# Define the feature matrix (X) and the target variable (y)\n",
    "X = leap_df_cleaned.drop(columns=['life_expectancy', 'country', 'year',\n",
    "                                  ###Pareto Start #########\n",
    "                                  'mobile_line_subscription_per_hundred_scaled',\n",
    "                                  'annual_co2_emissions_scaled','rural_population_by_pop_scaled',\n",
    "                                  'animal_protein_per_day_person_scaled'\n",
    "                                  ###Pareto End #########\n",
    "                                  ])\n",
    "\n",
    "y = leap_df_cleaned['life_expectancy']\n",
    "\n",
    "# Split the data into training and testing sets\n",
    "X_train, X_test, y_train, y_test = train_test_split(X, y, test_size=0.2, random_state=42)"
   ]
  },
  {
   "cell_type": "code",
   "execution_count": 35,
   "id": "2c1c093b",
   "metadata": {},
   "outputs": [
    {
     "data": {
      "text/plain": [
       "['population',\n",
       " 'fat_per_day_person_scaled',\n",
       " 'carbs_per_day_person_scaled',\n",
       " 'fertility_rate_scaled',\n",
       " 'fixed_line_subscription_per_hundred_scaled']"
      ]
     },
     "execution_count": 35,
     "metadata": {},
     "output_type": "execute_result"
    }
   ],
   "source": [
    "#Model predictors\n",
    "ColNames = X_train.columns\n",
    "ColNames = ColNames.to_list()\n",
    "ColNames"
   ]
  },
  {
   "cell_type": "markdown",
   "id": "a36a960b",
   "metadata": {},
   "source": [
    "### 2.a Linear Regression Model"
   ]
  },
  {
   "cell_type": "code",
   "execution_count": 36,
   "id": "714664a3",
   "metadata": {},
   "outputs": [
    {
     "name": "stdout",
     "output_type": "stream",
     "text": [
      "linear regression Model\n",
      "Coefficients: [ 6.75618790e-10  1.62321222e+01 -2.21764702e+00  4.02480964e+00\n",
      " -1.41753014e+01]\n",
      "Intercept: 63.19724399422385\n"
     ]
    }
   ],
   "source": [
    "# Create and train the linear regression model\n",
    "LRmodel = LinearRegression()\n",
    "LRmodel.fit(X_train, y_train)\n",
    "\n",
    "# Print the coefficients and intercept\n",
    "print(\"linear regression Model\")\n",
    "print(\"Coefficients:\", LRmodel.coef_)\n",
    "print(\"Intercept:\", LRmodel.intercept_)"
   ]
  },
  {
   "cell_type": "code",
   "execution_count": 37,
   "id": "2f7d809b-b93a-4bf0-ad1f-136ab117308c",
   "metadata": {},
   "outputs": [
    {
     "name": "stdout",
     "output_type": "stream",
     "text": [
      "R^2 Score: 0.06731385009338664\n",
      "Mean Absolute Error (MAE): 8.187234417828833\n",
      "Mean Squared Error (MSE): 95.29911998327674\n",
      "Root Mean Squared Error (RMSE): 9.762126816594668\n"
     ]
    },
    {
     "data": {
      "image/png": "[encoded data removed]",
      "text/plain": [
       "<Figure size 432x288 with 1 Axes>"
      ]
     },
     "metadata": {
      "needs_background": "light"
     },
     "output_type": "display_data"
    }
   ],
   "source": [
    "#LR Model Evaluation \n",
    "ModelEvaluation(LRmodel,X_test, y_test)"
   ]
  },
  {
   "cell_type": "markdown",
   "id": "bbfbcb4c",
   "metadata": {},
   "source": [
    "### 2.b DecisionTreeRegressor"
   ]
  },
  {
   "cell_type": "code",
   "execution_count": 38,
   "id": "bf79201f-311f-4d70-9f9f-735f3b43ad4a",
   "metadata": {},
   "outputs": [
    {
     "data": {
      "text/plain": [
       "DecisionTreeRegressor(random_state=42)"
      ]
     },
     "execution_count": 38,
     "metadata": {},
     "output_type": "execute_result"
    }
   ],
   "source": [
    "from sklearn.tree import DecisionTreeRegressor\n",
    "DTmodel = DecisionTreeRegressor(random_state=42)\n",
    "DTmodel.fit(X_train, y_train)"
   ]
  },
  {
   "cell_type": "code",
   "execution_count": 39,
   "id": "92fab40e-1ae1-41c7-8846-48b38b9a2975",
   "metadata": {},
   "outputs": [
    {
     "name": "stdout",
     "output_type": "stream",
     "text": [
      "R^2 Score: 0.7599543633778041\n",
      "Mean Absolute Error (MAE): 1.8494827586206901\n",
      "Mean Squared Error (MSE): 24.527155172413792\n",
      "Root Mean Squared Error (RMSE): 4.952489795286184\n"
     ]
    },
    {
     "data": {
      "image/png": "[encoded data removed]",
      "text/plain": [
       "<Figure size 432x288 with 1 Axes>"
      ]
     },
     "metadata": {
      "needs_background": "light"
     },
     "output_type": "display_data"
    }
   ],
   "source": [
    "#DT Model Evaluation \n",
    "ModelEvaluation(DTmodel,X_test, y_test)"
   ]
  },
  {
   "cell_type": "markdown",
   "id": "2c25c66b",
   "metadata": {},
   "source": [
    "### 2.c RandomForestRegressor"
   ]
  },
  {
   "cell_type": "code",
   "execution_count": 40,
   "id": "e2a9450b-e49b-409e-9fa6-2403d5f8d4f2",
   "metadata": {},
   "outputs": [
    {
     "data": {
      "text/plain": [
       "RandomForestRegressor(random_state=42)"
      ]
     },
     "execution_count": 40,
     "metadata": {},
     "output_type": "execute_result"
    }
   ],
   "source": [
    "from sklearn.ensemble import RandomForestRegressor\n",
    "RFmodel = RandomForestRegressor(random_state=42)\n",
    "RFmodel.fit(X_train, y_train)"
   ]
  },
  {
   "cell_type": "code",
   "execution_count": 41,
   "id": "9b70645b-6582-4730-9c76-eaae51498c2b",
   "metadata": {},
   "outputs": [
    {
     "name": "stdout",
     "output_type": "stream",
     "text": [
      "R^2 Score: 0.8882611084587088\n",
      "Mean Absolute Error (MAE): 1.96245689655172\n",
      "Mean Squared Error (MSE): 11.417150381034467\n",
      "Root Mean Squared Error (RMSE): 3.378927400971271\n"
     ]
    },
    {
     "data": {
      "image/png": "[encoded data removed]",
      "text/plain": [
       "<Figure size 432x288 with 1 Axes>"
      ]
     },
     "metadata": {
      "needs_background": "light"
     },
     "output_type": "display_data"
    }
   ],
   "source": [
    "#Random forest Model Evaluation \n",
    "ModelEvaluation(RFmodel,X_test, y_test)"
   ]
  },
  {
   "cell_type": "markdown",
   "id": "8f00105c",
   "metadata": {},
   "source": [
    "RandomForestRegressor performs the best, with the highest R² score and the lowest MSE and RMSE values. Despite a slightly higher MAE than Model 2, the difference is minimal.\n",
    "\n",
    "R² Score: A higher R² indicates that the model explains a larger portion of the variance in the data, suggesting a better overall fit.\n",
    "\n",
    "MAE: Lower MAE values indicate that the model's predictions are, on average, close to the actual values.\n",
    "\n",
    "MSE: Lower MSE values indicate fewer and smaller errors overall. Because it squares the errors before averaging, it heavily penalizes larger errors.\n",
    "\n",
    "RMSE: Like MSE, lower RMSE values indicate fewer and smaller errors, but RMSE is often preferred for interpretability since it is in the same units as the data.\n",
    "\n"
   ]
  },
  {
   "cell_type": "markdown",
   "id": "76258014",
   "metadata": {},
   "source": [
    "## 4 Saving the CSV"
   ]
  },
  {
   "cell_type": "code",
   "execution_count": 42,
   "id": "a8fc8e24",
   "metadata": {},
   "outputs": [],
   "source": [
    "pd.DataFrame(CountryNames).to_csv('./data/countriesList.csv', index = False)"
   ]
  },
  {
   "cell_type": "code",
   "execution_count": 43,
   "id": "3d20f048",
   "metadata": {},
   "outputs": [],
   "source": [
    "pd.DataFrame(ColNames).to_csv('data/predictors.csv', index=False)"
   ]
  },
  {
   "cell_type": "code",
   "execution_count": 44,
   "id": "976d0ad4",
   "metadata": {},
   "outputs": [],
   "source": [
    "Recent_data_DF.to_csv('./data/Recent_data_DF.csv', index=False)"
   ]
  },
  {
   "cell_type": "markdown",
   "id": "31cd3102-d4fb-4258-9f39-ccce59e81e7e",
   "metadata": {},
   "source": [
    "## 5 Saving the model"
   ]
  },
  {
   "cell_type": "code",
   "execution_count": 45,
   "id": "1c8ff53d-dff9-44de-a62a-fa969967633c",
   "metadata": {},
   "outputs": [],
   "source": [
    "import pickle"
   ]
  },
  {
   "cell_type": "code",
   "execution_count": 46,
   "id": "3a9f8863-14a4-42ed-a5a5-e3605d9ad8eb",
   "metadata": {},
   "outputs": [],
   "source": [
    "data = {\"model\": RFmodel}\n",
    "with open('saved_model.pkl', 'wb') as file:\n",
    "    pickle.dump(data, file)"
   ]
  },
  {
   "cell_type": "code",
   "execution_count": 47,
   "id": "b0a0ea66-dc9b-4e9c-a756-c206bf0f0d29",
   "metadata": {},
   "outputs": [],
   "source": [
    "with open('saved_model.pkl', 'rb') as file:\n",
    "    data = pickle.load(file)\n",
    "\n",
    "regressor_loaded = data[\"model\"]"
   ]
  },
  {
   "cell_type": "code",
   "execution_count": 48,
   "id": "7c7743d4",
   "metadata": {},
   "outputs": [
    {
     "data": {
      "text/plain": [
       "[population                                    6.245542e+06\n",
       " fat_per_day_person_scaled                     2.631565e-01\n",
       " carbs_per_day_person_scaled                   3.969356e-01\n",
       " fertility_rate_scaled                         3.304840e-01\n",
       " fixed_line_subscription_per_hundred_scaled    5.340689e-02\n",
       " Name: 2502, dtype: float64]"
      ]
     },
     "execution_count": 48,
     "metadata": {},
     "output_type": "execute_result"
    }
   ],
   "source": [
    "[X_test.iloc[141]]"
   ]
  },
  {
   "cell_type": "code",
   "execution_count": 49,
   "id": "d8b14344-9337-49cf-a0c8-c496c20def41",
   "metadata": {},
   "outputs": [
    {
     "data": {
      "text/plain": [
       "array([51.151])"
      ]
     },
     "execution_count": 49,
     "metadata": {},
     "output_type": "execute_result"
    }
   ],
   "source": [
    "#test output\n",
    "regressor_loaded.predict([X_test.iloc[141]])"
   ]
  }
 ],
 "metadata": {
  "kernelspec": {
   "display_name": "Python 3",
   "language": "python",
   "name": "python3"
  },
  "language_info": {
   "codemirror_mode": {
    "name": "ipython",
    "version": 3
   },
   "file_extension": ".py",
   "mimetype": "text/x-python",
   "name": "python",
   "nbconvert_exporter": "python",
   "pygments_lexer": "ipython3",
   "version": "3.8.8"
  }
 },
 "nbformat": 4,
 "nbformat_minor": 5
}
